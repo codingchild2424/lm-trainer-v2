{
 "cells": [
  {
   "cell_type": "code",
   "execution_count": 58,
   "metadata": {},
   "outputs": [
    {
     "name": "stderr",
     "output_type": "stream",
     "text": [
      "Found cached dataset parquet (/root/.cache/huggingface/datasets/Open-Orca___parquet/Open-Orca--OpenOrca-2065d6f0dc25b814/0.0.0/14a00e99c0d15a23649d0db8944380ac81082d4b021f398733dd84f3a6c569a7)\n",
      "100%|██████████| 1/1 [00:00<00:00,  5.78it/s]\n"
     ]
    }
   ],
   "source": [
    "from datasets import load_dataset\n",
    "dataset = load_dataset(\"Open-Orca/OpenOrca\")"
   ]
  },
  {
   "cell_type": "code",
   "execution_count": 59,
   "metadata": {},
   "outputs": [
    {
     "data": {
      "text/plain": [
       "DatasetDict({\n",
       "    train: Dataset({\n",
       "        features: ['id', 'system_prompt', 'question', 'response'],\n",
       "        num_rows: 4233923\n",
       "    })\n",
       "})"
      ]
     },
     "execution_count": 59,
     "metadata": {},
     "output_type": "execute_result"
    }
   ],
   "source": [
    "dataset"
   ]
  },
  {
   "cell_type": "code",
   "execution_count": 60,
   "metadata": {},
   "outputs": [
    {
     "data": {
      "text/plain": [
       "{'id': 'niv.242684',\n",
       " 'system_prompt': '',\n",
       " 'question': \"You will be given a definition of a task first, then some input of the task.\\nThis task is about using the specified sentence and converting the sentence to Resource Description Framework (RDF) triplets of the form (subject, predicate object). The RDF triplets generated must be such that the triplets accurately capture the structure and semantics of the input sentence. The input is a sentence and the output is a list of triplets of the form [subject, predicate, object] that capture the relationships present in the sentence. When a sentence has more than 1 RDF triplet possible, the output must contain all of them.\\n\\nAFC Ajax (amateurs)'s ground is Sportpark De Toekomst where Ajax Youth Academy also play.\\nOutput:\",\n",
       " 'response': '[\\n  [\"AFC Ajax (amateurs)\", \"has ground\", \"Sportpark De Toekomst\"],\\n  [\"Ajax Youth Academy\", \"plays at\", \"Sportpark De Toekomst\"]\\n]'}"
      ]
     },
     "execution_count": 60,
     "metadata": {},
     "output_type": "execute_result"
    }
   ],
   "source": [
    "dataset['train'][0]"
   ]
  },
  {
   "cell_type": "code",
   "execution_count": 61,
   "metadata": {},
   "outputs": [
    {
     "name": "stderr",
     "output_type": "stream",
     "text": [
      "100%|██████████| 4233923/4233923 [07:04<00:00, 9972.08it/s] \n"
     ]
    }
   ],
   "source": [
    "from tqdm import tqdm\n",
    "\n",
    "# Get the total number of examples\n",
    "total = len(dataset['train'])\n",
    "\n",
    "# Create a progress bar\n",
    "pbar = tqdm(total=total)\n",
    "\n",
    "def convert_format(example):\n",
    "    # Update the progress bar\n",
    "    pbar.update()\n",
    "\n",
    "    # Creating new dictionary for new format\n",
    "    new_dict = {}\n",
    "\n",
    "    # Generating text value for new format\n",
    "    text = '### 시스템: ' + example['system_prompt'] + '### 질문: ' + example['question'] + '\\n\\n' + '### 답변: ' + example['response'] + '<|endoftext|>'\n",
    "\n",
    "    # Adding text value to new dictionary\n",
    "    new_dict['text'] = text\n",
    "\n",
    "    return new_dict\n",
    "\n",
    "# Using map function to apply the processing function on all examples in parallel\n",
    "new_format_dataset = dataset['train'].map(convert_format, load_from_cache_file=False)\n",
    "\n",
    "# Close the progress bar\n",
    "pbar.close()\n"
   ]
  },
  {
   "cell_type": "code",
   "execution_count": 62,
   "metadata": {},
   "outputs": [
    {
     "data": {
      "text/plain": [
       "Dataset({\n",
       "    features: ['id', 'system_prompt', 'question', 'response', 'text'],\n",
       "    num_rows: 4233923\n",
       "})"
      ]
     },
     "execution_count": 62,
     "metadata": {},
     "output_type": "execute_result"
    }
   ],
   "source": [
    "new_format_dataset"
   ]
  },
  {
   "cell_type": "code",
   "execution_count": 63,
   "metadata": {},
   "outputs": [
    {
     "data": {
      "text/plain": [
       "'### 시스템: ### 질문: You will be given a definition of a task first, then some input of the task.\\nThis task is about using the specified sentence and converting the sentence to Resource Description Framework (RDF) triplets of the form (subject, predicate object). The RDF triplets generated must be such that the triplets accurately capture the structure and semantics of the input sentence. The input is a sentence and the output is a list of triplets of the form [subject, predicate, object] that capture the relationships present in the sentence. When a sentence has more than 1 RDF triplet possible, the output must contain all of them.\\n\\nAFC Ajax (amateurs)\\'s ground is Sportpark De Toekomst where Ajax Youth Academy also play.\\nOutput:\\n\\n### 답변: [\\n  [\"AFC Ajax (amateurs)\", \"has ground\", \"Sportpark De Toekomst\"],\\n  [\"Ajax Youth Academy\", \"plays at\", \"Sportpark De Toekomst\"]\\n]<|endoftext|>'"
      ]
     },
     "execution_count": 63,
     "metadata": {},
     "output_type": "execute_result"
    }
   ],
   "source": [
    "new_format_dataset['text'][0]"
   ]
  },
  {
   "cell_type": "code",
   "execution_count": 64,
   "metadata": {},
   "outputs": [
    {
     "name": "stderr",
     "output_type": "stream",
     "text": [
      "100%|██████████| 4233923/4233923 [00:20<00:00, 209814.67it/s]\n"
     ]
    }
   ],
   "source": [
    "import json\n",
    "from tqdm import tqdm\n",
    "\n",
    "# Assuming new_format_dataset is a list of dictionaries with a key 'text'\n",
    "json_list = [json.dumps({\"text\": example['text']}) for example in new_format_dataset]\n",
    "\n",
    "# Save the list to a JSON file\n",
    "with open('../../datasets/raw_datasets/open_orca.json', 'w', encoding='utf-8') as f:\n",
    "    # Create a new progress bar for the file writing\n",
    "    pbar = tqdm(total=len(json_list))\n",
    "\n",
    "    for json_str in json_list:\n",
    "        f.write(json_str + '\\n')  # Write JSON string and a newline character\n",
    "        # Update the progress bar\n",
    "        pbar.update()\n",
    "\n",
    "    # Close the progress bar\n",
    "    pbar.close()"
   ]
  },
  {
   "cell_type": "code",
   "execution_count": 65,
   "metadata": {},
   "outputs": [
    {
     "name": "stdout",
     "output_type": "stream",
     "text": [
      "### 시스템: ### 질문: You will be given a definition of a task first, then some input of the task.\n",
      "This task is about using the specified sentence and converting the sentence to Resource Description Framework (RDF) triplets of the form (subject, predicate object). The RDF triplets generated must be such that the triplets accurately capture the structure and semantics of the input sentence. The input is a sentence and the output is a list of triplets of the form [subject, predicate, object] that capture the relationships present in the sentence. When a sentence has more than 1 RDF triplet possible, the output must contain all of them.\n",
      "\n",
      "AFC Ajax (amateurs)'s ground is Sportpark De Toekomst where Ajax Youth Academy also play.\n",
      "Output:\n",
      "\n",
      "### 답변: [\n",
      "  [\"AFC Ajax (amateurs)\", \"has ground\", \"Sportpark De Toekomst\"],\n",
      "  [\"Ajax Youth Academy\", \"plays at\", \"Sportpark De Toekomst\"]\n",
      "]<|endoftext|>\n"
     ]
    }
   ],
   "source": [
    "import json\n",
    "\n",
    "with open('../../datasets/raw_datasets/open_orca.json', 'r', encoding='utf-8') as f:\n",
    "    for line in f:\n",
    "        print(json.loads(line)['text'])\n",
    "        #print(translator.translate(json.loads(line)['text'], src=\"ko\", dest=\"en\"))\n",
    "        break"
   ]
  },
  {
   "cell_type": "code",
   "execution_count": 37,
   "metadata": {},
   "outputs": [
    {
     "name": "stdout",
     "output_type": "stream",
     "text": [
      "{\"text\":\"### 질문: 양파는 어떤 식물 부위인가요? 그리고 고구마는 뿌리인가요?\\n\\n### 답변: 양파는 잎이 아닌 식물의 줄기 부분입니다. 고구마는 식물의 뿌리 부분입니다. \\n\\n식물의 부위의 구분에 대해 궁금해하는 분이라면 분명 이 질문에 대한 답을 찾고 있을 것입니다. 양파는 잎이 아닌 줄기 부분입니다. 고구마는 다른 질문과 답변에서 언급된 것과 같이 뿌리 부분입니다. 따라서, 양파는 식물의 줄기 부분이 되고, 고구마는 식물의 뿌리 부분입니다.\\n\\n 덧붙이는 답변: 고구마 줄기도 볶아먹을 수 있나요? \\n\\n고구마 줄기도 식용으로 볶아먹을 수 있습니다. 하지만 줄기 뿐만 아니라, 잎, 씨, 뿌리까지 모든 부위가 식용으로 활용되기도 합니다. 다만, 한국에서는 일반적으로 뿌리 부분인 고구마를 주로 먹습니다.<|endoftext|>\"}\n",
      "\n"
     ]
    }
   ],
   "source": [
    "import json\n",
    "\n",
    "with open('../../datasets/KoAlpaca_v1.1a_textonly.json', 'r', encoding='utf-8') as f:\n",
    "    for line in f:\n",
    "        print(line)\n",
    "        break"
   ]
  }
 ],
 "metadata": {
  "kernelspec": {
   "display_name": "Python 3",
   "language": "python",
   "name": "python3"
  },
  "language_info": {
   "codemirror_mode": {
    "name": "ipython",
    "version": 3
   },
   "file_extension": ".py",
   "mimetype": "text/x-python",
   "name": "python",
   "nbconvert_exporter": "python",
   "pygments_lexer": "ipython3",
   "version": "3.10.12"
  },
  "orig_nbformat": 4
 },
 "nbformat": 4,
 "nbformat_minor": 2
}
